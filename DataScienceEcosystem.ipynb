{
 "cells": [
  {
   "cell_type": "markdown",
   "id": "4f8d3e05-94fe-4bab-8459-b45640ae8150",
   "metadata": {},
   "source": [
    "# Data Science Tools and Ecosystem"
   ]
  },
  {
   "cell_type": "markdown",
   "id": "89f236ba-034f-4109-814c-85c1953fc901",
   "metadata": {},
   "source": [
    "In this notebook, Data Science Tools and Ecosystems are summarized"
   ]
  },
  {
   "cell_type": "markdown",
   "id": "b9cdc75f-3a07-4fe1-9097-30fcef4ce8ae",
   "metadata": {},
   "source": [
    "**Objectives:**\n",
    " - List popular Languages Data Scientists use\n",
    " - List libraries commonly used by Data Scientists\n",
    " - Show examples of arithmetic expresssions in Python"
   ]
  },
  {
   "cell_type": "markdown",
   "id": "1bdb4466-e0eb-4d00-9b53-c013b9a3ade9",
   "metadata": {},
   "source": [
    "Some of the popular languages that Data Scientists use are:\n",
    "1. R\n",
    "2. Python\n",
    "3. Java\n",
    "4. SQL"
   ]
  },
  {
   "cell_type": "markdown",
   "id": "8ccf2f92-6c0c-4c1f-8f84-3fba54c1d7b2",
   "metadata": {},
   "source": [
    "Some of the commonly used libraries used by Data Scientists include:\n",
    "1. Keras\n",
    "2. TensorFlow\n",
    "3. ggplot2\n",
    "4. ApacheSpark\n",
    "5. Pandas"
   ]
  },
  {
   "cell_type": "markdown",
   "id": "892dd7b6-de49-47c0-af9c-3c362842dc41",
   "metadata": {},
   "source": [
    "|Data Science Tools|\n",
    "|------|\n",
    "|Jupyter Notebook/Lab|\n",
    "|Apache Zeppelin|\n",
    "|Spyder|\n",
    "|Rstudio|"
   ]
  },
  {
   "cell_type": "markdown",
   "id": "952ae96a-097b-452a-8a24-3071a68beccb",
   "metadata": {},
   "source": [
    "### Below are a few examples of evaluating arithmetic expressions in Python"
   ]
  },
  {
   "cell_type": "markdown",
   "id": "17a747cb-90b7-41cc-bfed-9b9a6c925260",
   "metadata": {},
   "source": [
    "This a simple arithmetic expression to mutiply then add integers"
   ]
  },
  {
   "cell_type": "code",
   "execution_count": 5,
   "id": "eab20fc7-6efb-416a-a8a3-b5b39c3abdea",
   "metadata": {},
   "outputs": [
    {
     "data": {
      "text/plain": [
       "17"
      ]
     },
     "execution_count": 5,
     "metadata": {},
     "output_type": "execute_result"
    }
   ],
   "source": [
    "(3*4)+5"
   ]
  },
  {
   "cell_type": "markdown",
   "id": "9947c207-e227-41a0-908b-497391dec7dc",
   "metadata": {},
   "source": [
    "This will convert 200 minutes to hours by dividing by 60"
   ]
  },
  {
   "cell_type": "code",
   "execution_count": 6,
   "id": "c30cb90e-a38f-44c7-bab1-974dcbc5aeb1",
   "metadata": {},
   "outputs": [
    {
     "data": {
      "text/plain": [
       "3.3333333333333335"
      ]
     },
     "execution_count": 6,
     "metadata": {},
     "output_type": "execute_result"
    }
   ],
   "source": [
    "200 / 60"
   ]
  },
  {
   "cell_type": "markdown",
   "id": "8f122963-9dc7-411d-b07d-7f54b4dfe099",
   "metadata": {},
   "source": [
    "## Author\n",
    "Brandon Marshall"
   ]
  },
  {
   "cell_type": "code",
   "execution_count": null,
   "id": "f9529df0-6ec5-42c4-bbf1-013769351634",
   "metadata": {},
   "outputs": [],
   "source": []
  }
 ],
 "metadata": {
  "kernelspec": {
   "display_name": "Python 3 (ipykernel)",
   "language": "python",
   "name": "python3"
  },
  "language_info": {
   "codemirror_mode": {
    "name": "ipython",
    "version": 3
   },
   "file_extension": ".py",
   "mimetype": "text/x-python",
   "name": "python",
   "nbconvert_exporter": "python",
   "pygments_lexer": "ipython3",
   "version": "3.10.9"
  }
 },
 "nbformat": 4,
 "nbformat_minor": 5
}
